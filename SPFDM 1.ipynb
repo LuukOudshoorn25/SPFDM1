{
 "cells": [
  {
   "cell_type": "code",
   "execution_count": 1,
   "metadata": {},
   "outputs": [],
   "source": [
    "# SPFDM Assignment 1\n",
    "# Luuk Oudshoorn and Willem-Jan de Voogd\n",
    "# Fall 2020"
   ]
  },
  {
   "cell_type": "code",
   "execution_count": 120,
   "metadata": {},
   "outputs": [
    {
     "name": "stderr",
     "output_type": "stream",
     "text": [
      "C:\\Users\\Willem Jan\\anaconda3\\lib\\site-packages\\ffn\\core.py:27: MatplotlibDeprecationWarning: The 'warn' parameter of use() is deprecated since Matplotlib 3.1 and will be removed in 3.3.  If any parameter follows 'warn', they should be pass as keyword, not positionally.\n",
      "  matplotlib.use('agg', warn=False)\n"
     ]
    }
   ],
   "source": [
    "import time\n",
    "import numpy as np\n",
    "import pandas as pd\n",
    "import datetime as dt\n",
    "from glob import glob\n",
    "from scipy.interpolate import interp1d\n",
    "%matplotlib inline\n",
    "# Import some of the basis required functions\n",
    "from scipy.stats import norm\n",
    "from joblib import Parallel, delayed\n",
    "import networkx as nx\n",
    "from scipy.stats import norm\n",
    "import scipy as sp\n",
    "import matplotlib.pyplot as plt\n",
    "import ffn \n",
    "from matplotlib import collections as matcoll"
   ]
  },
  {
   "cell_type": "code",
   "execution_count": 121,
   "metadata": {},
   "outputs": [
    {
     "data": {
      "text/plain": [
       "Text(0, 0.5, 'Rate (%)')"
      ]
     },
     "execution_count": 121,
     "metadata": {},
     "output_type": "execute_result"
    }
   ],
   "source": [
    "# Load LIBOR Rates\n",
    "periods = ['ON','1M','3M','6M','12M']\n",
    "LIBOR = pd.DataFrame()\n",
    "for period in periods:\n",
    "    filename = glob('./USD'+period+'*.csv')[0]\n",
    "    LIBOR_sub = pd.read_csv(filename)\n",
    "    LIBOR_sub['DATE'] = pd.to_datetime(LIBOR_sub['DATE'])\n",
    "    LIBOR_sub.columns = ['Date','Rate_'+period]\n",
    "    LIBOR_sub = LIBOR_sub.set_index('Date')\n",
    "    LIBOR_sub = LIBOR_sub.replace('.',np.nan)\n",
    "    LIBOR_sub['Rate_'+period] = LIBOR_sub['Rate_'+period].astype(float)\n",
    "    LIBOR = pd.concat((LIBOR,LIBOR_sub),axis=1)\n",
    "LIBOR.plot()\n",
    "plt.ylabel('Rate (%)')"
   ]
  },
  {
   "cell_type": "code",
   "execution_count": 122,
   "metadata": {},
   "outputs": [],
   "source": [
    "# Libor rates from ICE\n",
    "# https://www.theice.com/marketdata/reports/170\n",
    "#LIBOR = pd.DataFrame({'Name':['Rate_3M','Rate_6M','Rate_12M'],'Rate':[-0.52971,-0.52329,-0.47386]}).set_index('Name')\n",
    "#LIBOR\n",
    "# Latest libor rates\n",
    "# These are annualized interest rates\n",
    "LIBOR = pd.DataFrame({'Rate':LIBOR.iloc[-1,2:]})\n",
    "LIBOR.loc['Rate_9M'] = interp1d([3,6,12],LIBOR.Rate,kind='linear')(9)"
   ]
  },
  {
   "cell_type": "code",
   "execution_count": 123,
   "metadata": {},
   "outputs": [
    {
     "data": {
      "text/html": [
       "<div>\n",
       "<style scoped>\n",
       "    .dataframe tbody tr th:only-of-type {\n",
       "        vertical-align: middle;\n",
       "    }\n",
       "\n",
       "    .dataframe tbody tr th {\n",
       "        vertical-align: top;\n",
       "    }\n",
       "\n",
       "    .dataframe thead th {\n",
       "        text-align: right;\n",
       "    }\n",
       "</style>\n",
       "<table border=\"1\" class=\"dataframe\">\n",
       "  <thead>\n",
       "    <tr style=\"text-align: right;\">\n",
       "      <th></th>\n",
       "      <th>Rate</th>\n",
       "    </tr>\n",
       "  </thead>\n",
       "  <tbody>\n",
       "    <tr>\n",
       "      <th>Rate_12M</th>\n",
       "      <td>0.236630</td>\n",
       "    </tr>\n",
       "    <tr>\n",
       "      <th>Rate_3M</th>\n",
       "      <td>0.116500</td>\n",
       "    </tr>\n",
       "    <tr>\n",
       "      <th>Rate_6M</th>\n",
       "      <td>0.149380</td>\n",
       "    </tr>\n",
       "    <tr>\n",
       "      <th>Rate_9M</th>\n",
       "      <td>0.193005</td>\n",
       "    </tr>\n",
       "  </tbody>\n",
       "</table>\n",
       "</div>"
      ],
      "text/plain": [
       "              Rate\n",
       "Rate_12M  0.236630\n",
       "Rate_3M   0.116500\n",
       "Rate_6M   0.149380\n",
       "Rate_9M   0.193005"
      ]
     },
     "execution_count": 123,
     "metadata": {},
     "output_type": "execute_result"
    }
   ],
   "source": [
    "# OIS curve, is 0.1% lower than Libor curve assuming fixed spread\n",
    "# We bootstrap the OIS for quarterly payments\n",
    "OIS = (LIBOR -0.1).sort_index()\n",
    "OIS"
   ]
  },
  {
   "cell_type": "code",
   "execution_count": 124,
   "metadata": {},
   "outputs": [
    {
     "data": {
      "text/html": [
       "<div>\n",
       "<style scoped>\n",
       "    .dataframe tbody tr th:only-of-type {\n",
       "        vertical-align: middle;\n",
       "    }\n",
       "\n",
       "    .dataframe tbody tr th {\n",
       "        vertical-align: top;\n",
       "    }\n",
       "\n",
       "    .dataframe thead th {\n",
       "        text-align: right;\n",
       "    }\n",
       "</style>\n",
       "<table border=\"1\" class=\"dataframe\">\n",
       "  <thead>\n",
       "    <tr style=\"text-align: right;\">\n",
       "      <th></th>\n",
       "      <th>Zero rate</th>\n",
       "    </tr>\n",
       "    <tr>\n",
       "      <th>Years</th>\n",
       "      <th></th>\n",
       "    </tr>\n",
       "  </thead>\n",
       "  <tbody>\n",
       "    <tr>\n",
       "      <th>0.25</th>\n",
       "      <td>0.116500</td>\n",
       "    </tr>\n",
       "    <tr>\n",
       "      <th>0.50</th>\n",
       "      <td>0.149380</td>\n",
       "    </tr>\n",
       "    <tr>\n",
       "      <th>0.75</th>\n",
       "      <td>0.193005</td>\n",
       "    </tr>\n",
       "    <tr>\n",
       "      <th>1.00</th>\n",
       "      <td>0.236630</td>\n",
       "    </tr>\n",
       "    <tr>\n",
       "      <th>1.25</th>\n",
       "      <td>NaN</td>\n",
       "    </tr>\n",
       "    <tr>\n",
       "      <th>...</th>\n",
       "      <td>...</td>\n",
       "    </tr>\n",
       "    <tr>\n",
       "      <th>29.00</th>\n",
       "      <td>NaN</td>\n",
       "    </tr>\n",
       "    <tr>\n",
       "      <th>29.25</th>\n",
       "      <td>NaN</td>\n",
       "    </tr>\n",
       "    <tr>\n",
       "      <th>29.50</th>\n",
       "      <td>NaN</td>\n",
       "    </tr>\n",
       "    <tr>\n",
       "      <th>29.75</th>\n",
       "      <td>NaN</td>\n",
       "    </tr>\n",
       "    <tr>\n",
       "      <th>30.00</th>\n",
       "      <td>NaN</td>\n",
       "    </tr>\n",
       "  </tbody>\n",
       "</table>\n",
       "<p>120 rows × 1 columns</p>\n",
       "</div>"
      ],
      "text/plain": [
       "       Zero rate\n",
       "Years           \n",
       "0.25    0.116500\n",
       "0.50    0.149380\n",
       "0.75    0.193005\n",
       "1.00    0.236630\n",
       "1.25         NaN\n",
       "...          ...\n",
       "29.00        NaN\n",
       "29.25        NaN\n",
       "29.50        NaN\n",
       "29.75        NaN\n",
       "30.00        NaN\n",
       "\n",
       "[120 rows x 1 columns]"
      ]
     },
     "execution_count": 124,
     "metadata": {},
     "output_type": "execute_result"
    }
   ],
   "source": [
    "# OIS is the first part of the zero curve\n",
    "zerocurve = pd.DataFrame({'Years':[1,0.25,0.5,0.75],'Zero rate':OIS.values.flatten()})\n",
    "\n",
    "zerocurve = zerocurve.set_index('Years').sort_index()\n",
    "zerocurve\n",
    "for i in np.arange(1.25,30.1,0.25):\n",
    "    zerocurve.loc[i] = np.nan\n",
    "zerocurve"
   ]
  },
  {
   "cell_type": "code",
   "execution_count": 125,
   "metadata": {},
   "outputs": [
    {
     "name": "stderr",
     "output_type": "stream",
     "text": [
      "<ipython-input-7-5da7feca8767>:15: UserWarning: Matplotlib is currently using agg, which is a non-GUI backend, so cannot show the figure.\n",
      "  plt.show()\n"
     ]
    },
    {
     "data": {
      "text/html": [
       "<div>\n",
       "<style scoped>\n",
       "    .dataframe tbody tr th:only-of-type {\n",
       "        vertical-align: middle;\n",
       "    }\n",
       "\n",
       "    .dataframe tbody tr th {\n",
       "        vertical-align: top;\n",
       "    }\n",
       "\n",
       "    .dataframe thead th {\n",
       "        text-align: right;\n",
       "    }\n",
       "</style>\n",
       "<table border=\"1\" class=\"dataframe\">\n",
       "  <thead>\n",
       "    <tr style=\"text-align: right;\">\n",
       "      <th></th>\n",
       "      <th>Swap_Rate</th>\n",
       "    </tr>\n",
       "    <tr>\n",
       "      <th>Years</th>\n",
       "      <th></th>\n",
       "    </tr>\n",
       "  </thead>\n",
       "  <tbody>\n",
       "    <tr>\n",
       "      <th>1.00</th>\n",
       "      <td>0.230000</td>\n",
       "    </tr>\n",
       "    <tr>\n",
       "      <th>1.25</th>\n",
       "      <td>0.235000</td>\n",
       "    </tr>\n",
       "    <tr>\n",
       "      <th>1.50</th>\n",
       "      <td>0.240000</td>\n",
       "    </tr>\n",
       "    <tr>\n",
       "      <th>1.75</th>\n",
       "      <td>0.245000</td>\n",
       "    </tr>\n",
       "    <tr>\n",
       "      <th>2.00</th>\n",
       "      <td>0.250000</td>\n",
       "    </tr>\n",
       "    <tr>\n",
       "      <th>...</th>\n",
       "      <td>...</td>\n",
       "    </tr>\n",
       "    <tr>\n",
       "      <th>29.00</th>\n",
       "      <td>1.249500</td>\n",
       "    </tr>\n",
       "    <tr>\n",
       "      <th>29.25</th>\n",
       "      <td>1.254625</td>\n",
       "    </tr>\n",
       "    <tr>\n",
       "      <th>29.50</th>\n",
       "      <td>1.259750</td>\n",
       "    </tr>\n",
       "    <tr>\n",
       "      <th>29.75</th>\n",
       "      <td>1.264875</td>\n",
       "    </tr>\n",
       "    <tr>\n",
       "      <th>30.00</th>\n",
       "      <td>1.270000</td>\n",
       "    </tr>\n",
       "  </tbody>\n",
       "</table>\n",
       "<p>117 rows × 1 columns</p>\n",
       "</div>"
      ],
      "text/plain": [
       "       Swap_Rate\n",
       "Years           \n",
       "1.00    0.230000\n",
       "1.25    0.235000\n",
       "1.50    0.240000\n",
       "1.75    0.245000\n",
       "2.00    0.250000\n",
       "...          ...\n",
       "29.00   1.249500\n",
       "29.25   1.254625\n",
       "29.50   1.259750\n",
       "29.75   1.264875\n",
       "30.00   1.270000\n",
       "\n",
       "[117 rows x 1 columns]"
      ]
     },
     "execution_count": 125,
     "metadata": {},
     "output_type": "execute_result"
    }
   ],
   "source": [
    "# To obtain longer rates we need to bootstrap\n",
    "# For bootstrapping we also need the swap rates. These are obtained from \n",
    "# http://www.interestrateswapstoday.com/swap-rates.html\n",
    "def read_interp_swaprates():\n",
    "    swaprates  =  pd.DataFrame({'Name':['1-Year','2-Year','3-Year','5-Year','7-Year','10-Year','30-Year'],'Rate':[0.230,0.25,0.29,0.44,0.63,0.86,1.270]}).set_index('Name')\n",
    "    swaprates['NMonths'] = [12,24,36,60,84,120,360]\n",
    "    #We need to interpolate swaprates to get all intermediate values\n",
    "    to_interpolate = np.arange(12,361,3)\n",
    "    # We use cubic interpolation as this generates a much smoother curve\n",
    "    interpolated = interp1d(swaprates['NMonths'],swaprates['Rate'],kind='linear')(to_interpolate)\n",
    "    swaprates_interp = pd.DataFrame({'Years':to_interpolate/12,'Swap_Rate':interpolated})\n",
    "    return swaprates_interp.set_index('Years')\n",
    "swaprates_interp = read_interp_swaprates()\n",
    "plt.plot(swaprates_interp.index, swaprates_interp.Swap_Rate)\n",
    "plt.show()\n",
    "swaprates_interp"
   ]
  },
  {
   "cell_type": "code",
   "execution_count": 126,
   "metadata": {},
   "outputs": [],
   "source": [
    "# Having both libor and swap rates we should be able to bootstrap the zero curve"
   ]
  },
  {
   "cell_type": "code",
   "execution_count": 127,
   "metadata": {},
   "outputs": [],
   "source": [
    "def bootstrap(disc_rates, disc_rates_times,to_calculate, swaprate, duration, payterm):\n",
    "    \"\"\"Takes known discounting rates and known swap rate for some times\n",
    "       and returns the swaprate for an unknown time\"\"\"\n",
    "    # payterm = years between payments\n",
    "    # discount rates = libor/ois like rates\n",
    "    # swaprate is the at-par rate for the IRS\n",
    "    # duration is the number of years of the swap\n",
    "    \n",
    "    Npayments = duration / payterm - 1 # because we estimate one\n",
    "    # We loop through all payments except for the unknown\n",
    "    swapvalue = 0\n",
    "    for i,time in enumerate(disc_rates_times):\n",
    "        if time != duration: # intermediate payouts\n",
    "            payout = swaprate * payterm\n",
    "        elif time ==duration: #final payout\n",
    "            payout = swaprate * payterm + 100\n",
    "        depreciation = np.exp(-time*disc_rates[i]/100)\n",
    "        swapvalue += payout * depreciation\n",
    "    # The swap is now worth par, thus 100. We calculate the rate solving the \n",
    "    # missing term\n",
    "    \n",
    "    if to_calculate == duration:\n",
    "        # If we miss the last term, then divide by 100+coupon\n",
    "        rate = np.log((100-swapvalue)/(swaprate * payterm + 100))/(-to_calculate)\n",
    "    elif to_calculate != duration:\n",
    "        # If we search for an intermediate term, divide by coupon\n",
    "        rate = np.log((100-swapvalue)/(swaprate * payterm))/(-to_calculate)\n",
    "    return (rate*100)"
   ]
  },
  {
   "cell_type": "code",
   "execution_count": 128,
   "metadata": {},
   "outputs": [
    {
     "data": {
      "text/plain": [
       "4.952932701412535"
      ]
     },
     "execution_count": 128,
     "metadata": {},
     "output_type": "execute_result"
    }
   ],
   "source": [
    "# Example from Hull\n",
    "disc_rates = [4,4.5,4.8]\n",
    "disc_rates_times = [0.5,1,1.5]\n",
    "to_calculate = 2\n",
    "swaprate   = 5\n",
    "duration   = 2\n",
    "payterm    = 0.5\n",
    "bootstrap(disc_rates, disc_rates_times,to_calculate, swaprate, duration, payterm)"
   ]
  },
  {
   "cell_type": "code",
   "execution_count": 129,
   "metadata": {},
   "outputs": [
    {
     "data": {
      "text/plain": [
       "4.800000075157118"
      ]
     },
     "execution_count": 129,
     "metadata": {},
     "output_type": "execute_result"
    }
   ],
   "source": [
    "# Inverse problem of Hull; we know 0.5,1,2\n",
    "disc_rates = [4,4.5,4.95293270]\n",
    "disc_rates_times = [0.5,1,2]\n",
    "to_calculate = 1.5\n",
    "swaprate   = 5\n",
    "duration   = 2\n",
    "payterm    = 0.5\n",
    "bootstrap(disc_rates, disc_rates_times,to_calculate, swaprate, duration, payterm)"
   ]
  },
  {
   "cell_type": "code",
   "execution_count": 130,
   "metadata": {},
   "outputs": [],
   "source": [
    "# We have swap rates for all 3 month periods by interpolation\n",
    "# Using each swap rate we can now equate the zero yield rate for that period\n",
    "for years,row in zerocurve.iterrows():\n",
    "    if (np.isnan(row['Zero rate'])):\n",
    "        # Unknown rate, bootstrap!\n",
    "        # Obtain swap rate for this maturity\n",
    "        swaprate = swaprates_interp.loc[years].Swap_Rate\n",
    "        known_rates = zerocurve.loc[:years-0.25]\n",
    "        zerorate = bootstrap(known_rates.values,known_rates.index,years,\n",
    "                             swaprate,years,0.25)\n",
    "        zerocurve.loc[years] = zerorate\n"
   ]
  },
  {
   "cell_type": "code",
   "execution_count": 131,
   "metadata": {},
   "outputs": [
    {
     "data": {
      "text/plain": [
<<<<<<< HEAD
       "<matplotlib.legend.Legend at 0x7ff4f063a8e0>"
=======
       "<matplotlib.legend.Legend at 0x170bc776250>"
>>>>>>> 7d4e22c9132aa01d3cd3e34d5bbf8e7889cc6060
      ]
     },
     "execution_count": 131,
     "metadata": {},
     "output_type": "execute_result"
    }
   ],
   "source": [
    "plt.plot(zerocurve.index, zerocurve.values,label='Zerocurve')\n",
    "plt.plot(swaprates_interp.index, swaprates_interp.Swap_Rate,label='Swaprate')\n",
    "plt.legend()"
   ]
  },
  {
   "cell_type": "code",
   "execution_count": 132,
   "metadata": {},
   "outputs": [],
   "source": [
    "# Now that we have the zerocurve, we can use it to valuate all kinds of IRS!"
   ]
  },
  {
   "cell_type": "code",
   "execution_count": 133,
   "metadata": {},
   "outputs": [
    {
     "data": {
      "text/html": [
       "<div>\n",
       "<style scoped>\n",
       "    .dataframe tbody tr th:only-of-type {\n",
       "        vertical-align: middle;\n",
       "    }\n",
       "\n",
       "    .dataframe tbody tr th {\n",
       "        vertical-align: top;\n",
       "    }\n",
       "\n",
       "    .dataframe thead th {\n",
       "        text-align: right;\n",
       "    }\n",
       "</style>\n",
       "<table border=\"1\" class=\"dataframe\">\n",
       "  <thead>\n",
       "    <tr style=\"text-align: right;\">\n",
       "      <th></th>\n",
       "      <th>Rate</th>\n",
       "    </tr>\n",
       "  </thead>\n",
       "  <tbody>\n",
       "    <tr>\n",
       "      <th>Rate_3M</th>\n",
       "      <td>0.216500</td>\n",
       "    </tr>\n",
       "    <tr>\n",
       "      <th>Rate_6M</th>\n",
       "      <td>0.249380</td>\n",
       "    </tr>\n",
       "    <tr>\n",
       "      <th>Rate_12M</th>\n",
       "      <td>0.336630</td>\n",
       "    </tr>\n",
       "    <tr>\n",
       "      <th>Rate_9M</th>\n",
       "      <td>0.293005</td>\n",
       "    </tr>\n",
       "  </tbody>\n",
       "</table>\n",
       "</div>"
      ],
      "text/plain": [
       "              Rate\n",
       "Rate_3M   0.216500\n",
       "Rate_6M   0.249380\n",
       "Rate_12M  0.336630\n",
       "Rate_9M   0.293005"
      ]
     },
     "execution_count": 133,
     "metadata": {},
     "output_type": "execute_result"
    }
   ],
   "source": [
    "LIBOR"
   ]
  },
  {
   "cell_type": "code",
<<<<<<< HEAD
   "execution_count": 134,
=======
   "execution_count": 24,
>>>>>>> 7d4e22c9132aa01d3cd3e34d5bbf8e7889cc6060
   "metadata": {},
   "outputs": [],
   "source": [
    "class swaps():\n",
    "    def __init__(self,start, lifetime,dT=0.25,swaprate=None,lagged_libor=None, print_value = True):\n",
    "        \"\"\"Initialize function. For any swap we determine\n",
    "           its value as difference between long and short\n",
    "           position in bonds. If inception if now, we solve\n",
    "           this value such that it is zero.\n",
    "           For each swap we pay fixed and receive floating rate\n",
    "           \n",
    "           start = float number of years, e.g. -0.5\n",
    "           lifetime = total lifetime since inception, e.g. 5\n",
    "           swaprate = some rate in % if defined. To find swaprate, \n",
    "           it should be set to None\n",
    "           lagged_libor = libor if swap already exists\"\"\"\n",
    "        self.swapstart = start\n",
    "        self.lifetime = lifetime\n",
    "        self.swaprate=swaprate\n",
    "        self.dT = dT\n",
    "        if lagged_libor:\n",
    "            self.floatlibor = lagged_libor\n",
    "        else:\n",
    "            self.floatlibor = 10.5\n",
    "        if self.swaprate:\n",
    "            # We need to calculate the present day value\n",
    "            # of this swap, since it already exists and has\n",
    "            # a defined swaprate\n",
    "            self.irsvalue = self.valuate(self.swaprate,print_=print_value)\n",
    "        else:\n",
    "            # We need to find the swaprate such that the net\n",
    "            # present value equals zero\n",
    "            self.get_rate()\n",
    "    \n",
    "    def valuate(self,swaprate,print_=False,lagged_libor = 10.2):\n",
    "        \"\"\"We pay fixed and thus are short in fixed bond at \n",
    "           the swaprate r. We receive floating and are thus \n",
    "           long in floating bond.\"\"\"\n",
    "        # Fixed lag\n",
    "        short = self.fixed_bond(swaprate)\n",
    "        if print_:\n",
    "            print('Fixed',short)\n",
    "        # Floating lag\n",
    "        long = self.floating_bond(self.floatlibor)\n",
    "        if print_:\n",
    "            print('Float',long)\n",
    "        return short - long\n",
    "        \n",
    "    def fixed_bond(self,rate):\n",
    "        time_remaining = self.lifetime + self.swapstart\n",
    "        start     = [self.swapstart+w*self.dT for w in range(0,1000)]\n",
    "        start     = np.sort(np.abs(start))[1]\n",
    "        \n",
    "        timesteps = np.arange(start,time_remaining,self.dT)\n",
    "        \n",
    "        # Each step in timesteps, we get discounted floating rate\n",
    "        # Additionally, we receive final payment\n",
    "        value = 0\n",
    "        for timestep in timesteps:\n",
    "            discount_rate = zerocurve.loc[timestep].iloc[0]\n",
    "            discount_factor = np.exp(-timestep*discount_rate/100)\n",
    "            discounted_cash = (rate*self.dT) * discount_factor\n",
    "            value += discounted_cash\n",
    "        # Final payment\n",
    "        discount_rate = zerocurve.loc[time_remaining].iloc[0]\n",
    "        discount_factor = np.exp(-time_remaining*discount_rate/100)\n",
    "        value += (100+rate*self.dT)*discount_factor\n",
    "        return value\n",
    "    \n",
    "    def floating_bond(self,libor):\n",
    "        \"\"\"Floating bond is worth par after the first next payment\n",
    "           and pays the LIBOR rate\"\"\"\n",
    "        time_remaining = self.lifetime + self.swapstart\n",
    "        start     = [self.swapstart+w*self.dT for w in range(0,1000)]\n",
    "        start     = np.sort(np.abs(start))[1]\n",
    "        \n",
    "        discount_rate = zerocurve.loc[start].iloc[0]\n",
    "        discount_factor = np.exp(-start*discount_rate/100)\n",
    "        value = (100+libor * self.dT) * discount_factor\n",
    "        \n",
    "        return value\n",
    "    \n",
    "    def valuate_call(self,x):\n",
    "        return np.abs(self.valuate(x))\n",
    "   \n",
    "    def get_rate(self):\n",
    "        \"\"\"Find the rate r that makes the value of a swap equal \n",
    "           zero\"\"\"\n",
    "        from scipy.optimize import minimize\n",
    "        fit_res = minimize(self.valuate_call,x0=[1])\n",
    "        self.fitrate = fit_res['x'][0]\n",
    "        \n",
    "    def value_amortized(self,rate):\n",
    "        n_periods = self.lifetime * self.dT\n",
    "        repay = 100/(n_periods)\n",
    "        timesteps = np.arange(self.swapstart,self.lifetime,self.dT)\n",
    "        payoff = 0\n",
    "        loss = 0\n",
    "        for i, timestep in enumerate(timesteps):\n",
    "            discount_rate = zerocurve.loc[timestep+self.dT].iloc[0]\n",
    "            discount_factor = np.exp(-timestep*discount_rate/100)\n",
    "            discounted_cash = (rate*self.dT) * (100 - i*repay) * discount_factor\n",
    "            payoff += discounted_cash\n",
    "            loss += (1-discount_factor)*repay\n",
    "        return np.abs(payoff-loss)\n",
    "    \n",
    "    def get_amortized_rate(self):\n",
    "        from scipy.optimize import minimize\n",
    "        fit_rate = minimize(self.value_amortized,x0=[1])\n",
    "        return fit_rate['x'][0]*100 "
   ]
  },
  {
   "cell_type": "code",
   "execution_count": 135,
   "metadata": {},
   "outputs": [
    {
     "data": {
      "text/plain": [
       "0.19241245219872027"
      ]
     },
     "execution_count": 17,
     "metadata": {},
     "output_type": "execute_result"
    }
   ],
   "source": [
    "amortized = swaps(0,4,1)\n",
    "amortized.get_amortized_rate()"
   ]
  },
  {
   "cell_type": "code",
   "execution_count": 18,
   "metadata": {},
   "outputs": [
    {
     "name": "stdout",
     "output_type": "stream",
     "text": [
      "Fixed 96.60929802037867\n",
      "Float 100.09117972190764\n"
     ]
    },
    {
     "data": {
      "text/plain": [
       "-3.4818817015289625"
      ]
     },
<<<<<<< HEAD
     "execution_count": 135,
=======
     "execution_count": 18,
>>>>>>> 7d4e22c9132aa01d3cd3e34d5bbf8e7889cc6060
     "metadata": {},
     "output_type": "execute_result"
    }
   ],
   "source": [
    "# Paper example\n",
    "zerocurve.loc[0.25] = 10\n",
    "zerocurve.loc[0.5] = 10.5\n",
    "zerocurve.loc[0.75] = 11\n",
    "zerocurve.loc[1] = 11.5\n",
    "\n",
    "# Find value of swap\n",
    "swapper = swaps(0,1,0.25,8)#-0.25,1.5,0.5,8)   \n",
    "swapper.irsvalue   "
   ]
  },
  {
   "cell_type": "code",
<<<<<<< HEAD
   "execution_count": 136,
=======
   "execution_count": 19,
>>>>>>> 7d4e22c9132aa01d3cd3e34d5bbf8e7889cc6060
   "metadata": {},
   "outputs": [
    {
     "data": {
      "text/plain": [
       "11.727583687444431"
      ]
     },
<<<<<<< HEAD
     "execution_count": 136,
=======
     "execution_count": 19,
>>>>>>> 7d4e22c9132aa01d3cd3e34d5bbf8e7889cc6060
     "metadata": {},
     "output_type": "execute_result"
    }
   ],
   "source": [
    "# Find rate for swap\n",
    "swapper = swaps(0,1,0.25,None)\n",
    "swapper.fitrate"
   ]
  },
  {
   "cell_type": "code",
<<<<<<< HEAD
   "execution_count": 137,
=======
   "execution_count": 20,
>>>>>>> 7d4e22c9132aa01d3cd3e34d5bbf8e7889cc6060
   "metadata": {},
   "outputs": [
    {
     "name": "stdout",
     "output_type": "stream",
     "text": [
      "Fixed 98.23789590103716\n",
      "Float 102.50507175417775\n"
     ]
    },
    {
     "data": {
      "text/plain": [
       "-4.267175853140586"
      ]
     },
<<<<<<< HEAD
     "execution_count": 137,
=======
     "execution_count": 20,
>>>>>>> 7d4e22c9132aa01d3cd3e34d5bbf8e7889cc6060
     "metadata": {},
     "output_type": "execute_result"
    }
   ],
   "source": [
    "# Example slides\n",
    "zerocurve.loc[0.25] = 10\n",
    "zerocurve.loc[0.75] = 10.5\n",
    "zerocurve.loc[1.25] = 11\n",
    "\n",
    "swapper = swaps(-0.25,1.5,0.5,8,10.2)#-0.25,1.5,0.5,8)   \n",
    "swapper.irsvalue  "
   ]
  },
  {
   "cell_type": "code",
   "execution_count": 26,
   "metadata": {},
   "outputs": [
    {
     "name": "stderr",
     "output_type": "stream",
     "text": [
      "<ipython-input-26-6a72757ac7cc>:13: UserWarning: Matplotlib is currently using agg, which is a non-GUI backend, so cannot show the figure.\n",
      "  plt.show()\n"
     ]
    }
   ],
   "source": [
    "# Already issued long-maturity swap - changes in sensitivity\n",
    "zerocurve_base = zerocurve['Zero rate']\n",
    "swap_rate = 8\n",
    "last_libor = 10.2\n",
    "changes = np.arange(0.95, 1.05, 0.01)\n",
    "swap_value = np.zeros(len(changes))\n",
    "for i, change in enumerate(changes):\n",
    "    zerocurve['Zero rate'] = zerocurve_base*change\n",
    "    swapper = swaps(-0.25,5,0.5,swap_rate,last_libor, print_value=False) \n",
    "    value = swapper.irsvalue\n",
    "    swap_value[i] = value\n",
    "plt.plot(changes, swap_value) \n",
    "plt.show()"
   ]
  },
  {
   "cell_type": "markdown",
   "metadata": {},
   "source": [
    "<h2>Mean reversion</h2>"
   ]
  },
  {
   "cell_type": "code",
<<<<<<< HEAD
   "execution_count": 138,
=======
   "execution_count": null,
>>>>>>> 7d4e22c9132aa01d3cd3e34d5bbf8e7889cc6060
   "metadata": {},
   "outputs": [],
   "source": [
    "# We use mean reversion rather than geometric brownian motion"
   ]
  },
  {
   "cell_type": "code",
<<<<<<< HEAD
   "execution_count": 139,
=======
   "execution_count": null,
>>>>>>> 7d4e22c9132aa01d3cd3e34d5bbf8e7889cc6060
   "metadata": {},
   "outputs": [],
   "source": [
    "# Download S&P500 data for 60 months, since 12*feb < 60\n",
    "# We choose the daily closing prices. The ticker symbol for \n",
    "# the S&P is ^GSPC on Yahoo Finance.\n",
    "sp500_pdaily = ffn.get('^GSPC:Close', start='2015-09-01',end='2020-08-31',)\n",
    "\n",
    "# Convert the daily prices to monthly prices by taking the closing \n",
    "# value of each month (e.g. last trading day)\n",
    "sp500_pmonthly = sp500_pdaily.to_monthly()\n",
    "\n",
    "# Check length\n",
    "print('Number of months equals {}'.format(len(sp500_pmonthly)))\n",
    "sp500_rmonthly = sp500_pmonthly.to_returns()\n",
    "\n",
    "startingprice = sp500_pmonthly['gspcclose'].iloc[-1]\n",
    "strikeprice = 3300\n",
    "sigma = sp500_rmonthly.std().iloc[-1]\n"
   ]
  },
  {
   "cell_type": "code",
   "execution_count": 140,
   "metadata": {},
   "outputs": [],
   "source": [
    "# We consider everything in logs. So define\n",
    "# x_t = ln (S_t)\n",
    "# So every step we have \n",
    "# x_t = ln(S_t-1)+ln(d)=D  and  x_t = ln(S_t-1)+ln(u) = U\n",
    "# "
   ]
  },
  {
   "cell_type": "code",
<<<<<<< HEAD
   "execution_count": 141,
=======
   "execution_count": null,
>>>>>>> 7d4e22c9132aa01d3cd3e34d5bbf8e7889cc6060
   "metadata": {},
   "outputs": [],
   "source": [
    "data=np.array([[r'$x_0$',r'$x^+_1=ln(S_o \\, u)$'],['x-1',r'$x^-_1=ln(S_o \\, d)$']])"
   ]
  },
  {
   "cell_type": "code",
<<<<<<< HEAD
   "execution_count": 142,
=======
   "execution_count": null,
>>>>>>> 7d4e22c9132aa01d3cd3e34d5bbf8e7889cc6060
   "metadata": {},
   "outputs": [],
   "source": [
    "n = 1\n",
    "fig, ax=plt.subplots(figsize=(4,3))\n",
    "G=nx.Graph()\n",
    "for i in range(0,n+1):\n",
    "    for j in range(1,i+2):\n",
    "        if i<n:\n",
    "            G.add_edge((i,j),(i+1,j))\n",
    "            G.add_edge((i,j),(i+1,j+1))\n",
    "\n",
    "posG={}\n",
    "\n",
    "for node in G.nodes:\n",
    "    posG[node]=(node[0],n+2+node[0]-2*node[1])\n",
    "nx.draw(G,pos=posG, with_labels=False, ax=ax)\n",
    "\n",
    "dict_ = {}\n",
    "for node in G.nodes:\n",
    "    dict_[node] = data[node[1]-1,node[0]]\n",
    "labels=nx.draw_networkx_labels(G,pos=posG,labels=dict_, ax=ax,verticalalignment='bottom',\n",
    "                               horizontalalignment='right',bbox=dict(facecolor='w',alpha=.6))\n",
    "dict_ = {}\n",
    "for edge in G.edges:\n",
    "    dict_[edge] = 'p' if edge[1][1]<=edge[0][1] else '1-p'\n",
    "\n",
    "labels=nx.draw_networkx_edge_labels(G,pos=posG,edge_labels=dict_, ax=ax)\n",
    "plt.xlim(0.2-(n+3)/10,n+0.2)\n",
    "plt.ylim(-0.4,2.5)\n",
    "plt.tight_layout()\n",
    "plt.savefig('OU_tree_example.pdf')"
   ]
  },
  {
   "cell_type": "code",
<<<<<<< HEAD
   "execution_count": 149,
   "metadata": {},
   "outputs": [
    {
     "name": "stderr",
     "output_type": "stream",
     "text": [
      "<>:110: SyntaxWarning: \"is not\" with a literal. Did you mean \"!=\"?\n",
      "<>:144: SyntaxWarning: \"is not\" with a literal. Did you mean \"!=\"?\n",
      "<>:110: SyntaxWarning: \"is not\" with a literal. Did you mean \"!=\"?\n",
      "<>:144: SyntaxWarning: \"is not\" with a literal. Did you mean \"!=\"?\n",
      "<ipython-input-149-10ca3a3e407c>:110: SyntaxWarning: \"is not\" with a literal. Did you mean \"!=\"?\n",
      "  if filename is not '':\n",
      "<ipython-input-149-10ca3a3e407c>:144: SyntaxWarning: \"is not\" with a literal. Did you mean \"!=\"?\n",
      "  if filename is not '':\n"
     ]
    }
   ],
=======
   "execution_count": null,
   "metadata": {},
   "outputs": [],
>>>>>>> 7d4e22c9132aa01d3cd3e34d5bbf8e7889cc6060
   "source": [
    "class BinomialTree():\n",
    "    def __init__(self,N, T, S, K,ret_arrays=True, ret_option=False, call_put = 'call', risk_premium = 0):\n",
    "        self.N = N\n",
    "        self.T = T\n",
    "        self.S = S\n",
    "        self.x0 = np.log(S)\n",
    "        self.sigma = np.sqrt(12)*0.0428156\n",
    "        self.rf = np.log((1+0.005/4)**4)\n",
    "        self.K = K\n",
    "        self.ret_arrays = ret_arrays\n",
    "        self.ret_option = ret_option\n",
    "        self.call_put = call_put\n",
    "        self.eta = 1/12 # half life time of mean reversion\n",
    "        self.ltm = 3500 # long term mean\n",
    "        self.xmean = np.log(self.ltm) - sigma**2/(2*self.eta)\n",
    "        self.binomial_tree()\n",
    "        \n",
    "    def prob_p(self,xt):\n",
    "        dt = self.T/self.N\n",
    "        return (0.5+0.5 * (self.eta*(-(xt-self.xmean))*np.sqrt(dt))/\n",
    "                    (np.sqrt(self.eta**2 * (-(xt-self.xmean))**2 * dt + self.sigma**2)))\n",
    "\n",
    "    def binomial_tree(self):\n",
    "        \"\"\"Uses mean reversion method\"\"\"\n",
    "        # We simulate a model for x^* and only later add the expected values\n",
    "        \n",
    "        # Time steps given total duration and number of steps\n",
    "        dt = self.T/self.N\n",
    "        # Fill the tree\n",
    "        log_pricetree = np.zeros([self.N+1,self.N+1])\n",
    "\n",
    "        # Consider i up moves and j down moves\n",
    "        for i in range(self.N+1):\n",
    "            for j in range(self.N+1):\n",
    "                if i+j <= self.N: \n",
    "                    x_ij = (self.xmean * (1-np.exp(-self.eta*(i+j)*dt)) + \n",
    "                            self.x0*np.exp(-self.eta*(i+j)*dt) +\n",
    "                            (i-j)*self.sigma * np.sqrt(dt))\n",
    "                    log_pricetree[j,i+j] = x_ij\n",
    "\n",
    "        price_tree = np.exp(log_pricetree)\n",
    "        self.price_tree = price_tree\n",
    "        self.log_pricetree = log_pricetree\n",
    "\n",
    "        self.probup = np.zeros([self.N+1,self.N+1])\n",
    "        for i in range(self.N+1):\n",
    "            for j in range(self.N+1):\n",
    "                if i+j <= self.N: \n",
    "                    self.probup[j,i+j] = self.prob_p(log_pricetree[j,i+j])\n",
    "\n",
    "\n",
    "\n",
    "        # Derive the option value\n",
    "        option = np.zeros([self.N+1, self.N+1])\n",
    "\n",
    "        if self.call_put == 'call':\n",
    "            option[:,self.N] = np.max(np.vstack((np.zeros(self.N+1),price_tree[:,self.N]-self.K)),axis=0)\n",
    "        elif self.call_put == 'put':\n",
    "            option[:,self.N] = np.max(np.vstack((np.zeros(self.N+1),self.K-price_tree[:,self.N])),axis=0)\n",
    "\n",
    "        # Consider i up moves and j down moves\n",
    "        for i in np.arange(self.N-1,-1,-1):\n",
    "            for j in np.arange(self.N-1,-1,-1):\n",
    "                if i+j < self.N: \n",
    "                    p_up = self.prob_p(log_pricetree[j,i+j])\n",
    "                    discount = np.exp(-dt*self.rf)\n",
    "                    #print(i,j,option[j,i+j+1],option[j+1,i+j+1],p_up)\n",
    "                    option[j,i+j] = discount*(p_up*option[j,i+j+1] + (1-p_up)*option[j+1,i+j+1])\n",
    "\n",
    "        self.price_tree = price_tree\n",
    "        self.option_tree = option\n",
    "        self.option_value = option[0,0]\n",
    "\n",
    "        if self.ret_arrays:\n",
    "            return price_tree, option          \n",
    "        if self.ret_option:\n",
    "            return option[0,0]\n",
    "\n",
    "    def plot_graph_2(self,data,data2, filename=''):\n",
    "        n = self.N\n",
    "        fig, ax=plt.subplots(figsize=(7,5))\n",
    "        G=nx.Graph()\n",
    "        for i in range(0,n+1):\n",
    "            for j in range(1,i+2):\n",
    "                if i<n:\n",
    "                    G.add_edge((i,j),(i+1,j))\n",
    "                    G.add_edge((i,j),(i+1,j+1))\n",
    "\n",
    "        posG={}\n",
    "\n",
    "        for node in G.nodes:\n",
    "            posG[node]=(node[0],n+2+node[0]-2*node[1])\n",
    "        nx.draw(G,pos=posG, with_labels=False, ax=ax)\n",
    "\n",
    "        dict_ = {}\n",
    "        for node in G.nodes:\n",
    "            dict_[node] = 0*' '+'S='+np.round(data[node[1]-1,node[0]],3).astype(str)+'\\n'+'p='+np.round(data2[node[1]-1,node[0]],3).astype(str)\n",
    "        labels=nx.draw_networkx_labels(G,pos=posG,labels=dict_, ax=ax,verticalalignment='bottom',\n",
    "                                       horizontalalignment='right',bbox=dict(facecolor='w',alpha=.6))\n",
    "        dict_ = {}\n",
    "        for edge in G.edges:\n",
    "            dict_[edge] = 'u' if edge[1][1]<=edge[0][1] else 'd'\n",
    "\n",
    "        labels=nx.draw_networkx_edge_labels(G,pos=posG,edge_labels=dict_, ax=ax)\n",
    "\n",
    "\n",
    "        plt.xlim(-(n+3)/10,n+0.2)\n",
    "        plt.ylim(-0.4,6.4*n/3+0.5)\n",
    "        plt.tight_layout()\n",
    "        if filename is not '':\n",
    "            plt.savefig(filename,dpi=500,bbox_inches='tight')\n",
    "        return     \n",
    "    def plot_graph(self,data, filename=''):\n",
    "        n = self.N\n",
    "        fig, ax=plt.subplots(figsize=(7,5))\n",
    "        G=nx.Graph()\n",
    "        for i in range(0,n+1):\n",
    "            for j in range(1,i+2):\n",
    "                if i<n:\n",
    "                    G.add_edge((i,j),(i+1,j))\n",
    "                    G.add_edge((i,j),(i+1,j+1))\n",
    "\n",
    "        posG={}\n",
    "\n",
    "        for node in G.nodes:\n",
    "            posG[node]=(node[0],n+2+node[0]-2*node[1])\n",
    "        nx.draw(G,pos=posG, with_labels=False, ax=ax)\n",
    "\n",
    "        dict_ = {}\n",
    "        for node in G.nodes:\n",
    "            dict_[node] = 0*' '+np.round(data[node[1]-1,node[0]],3).astype(str)\n",
    "        labels=nx.draw_networkx_labels(G,pos=posG,labels=dict_, ax=ax,verticalalignment='bottom',\n",
    "                                       horizontalalignment='right',bbox=dict(facecolor='w',alpha=.6))\n",
    "        dict_ = {}\n",
    "        for edge in G.edges:\n",
    "            dict_[edge] = 'u' if edge[1][1]<=edge[0][1] else 'd'\n",
    "\n",
    "        labels=nx.draw_networkx_edge_labels(G,pos=posG,edge_labels=dict_, ax=ax)\n",
    "\n",
    "\n",
    "        plt.xlim(-(n+3)/10,n+0.2)\n",
    "        plt.ylim(-0.4,6.4*n/3+0.5)\n",
    "        plt.tight_layout()\n",
    "        if filename is not '':\n",
    "            plt.savefig(filename,dpi=500,bbox_inches='tight')\n",
    "        return     "
   ]
  },
  {
   "cell_type": "code",
<<<<<<< HEAD
   "execution_count": 150,
=======
   "execution_count": null,
>>>>>>> 7d4e22c9132aa01d3cd3e34d5bbf8e7889cc6060
   "metadata": {},
   "outputs": [],
   "source": [
    "FirstBinomialTree = BinomialTree(3,3/12,startingprice,3300,call_put='call')\n",
    "#FirstBinomialTree.plot_graph(FirstBinomialTree.probup)\n",
    "FirstBinomialTree.plot_graph_2(FirstBinomialTree.price_tree,FirstBinomialTree.probup, 'pricetree1.pdf')\n",
    "FirstBinomialTree.plot_graph(FirstBinomialTree.option_tree,'option__valuetree.pdf')"
   ]
  },
  {
   "cell_type": "code",
<<<<<<< HEAD
   "execution_count": 279,
   "metadata": {},
   "outputs": [
    {
     "data": {
      "image/png": "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\n",
      "text/plain": [
       "<Figure size 432x288 with 1 Axes>"
      ]
     },
     "metadata": {
      "needs_background": "light"
     },
     "output_type": "display_data"
    }
   ],
=======
   "execution_count": null,
   "metadata": {},
   "outputs": [],
   "source": [
    "# Exercise 1: Monte Carlo Simulation\n",
    "class MonteCarlo():\n",
    "    def __init__(self,sigma = None, K = 3300):\n",
    "        # If we do not call the function with a value, \n",
    "        # initialize at the \"standard\" numbers\n",
    "        self.rf = np.log((1+0.005/4)**4)\n",
    "        self.sigma = np.sqrt(12)*0.0428156\n",
    "        self.K     = K\n",
    "        np.random.seed(42)\n",
    "        self.x0 = np.log(startingprice)\n",
    "        self.eta = 1/12 # half life time of mean reversion\n",
    "        self.ltm = 3500 # long term mean\n",
    "        self.xmean = np.log(self.ltm) - self.sigma**2/(2*self.eta)\n",
    "\n",
    "    def simulate(self,N,T):\n",
    "        # We generate N(0,1) random variables\n",
    "        # and multiply by sigma to get N(0,vola^2) variables\n",
    "        k=1\n",
    "        phis = np.random.randn(N)\n",
    "        sigma = self.sigma**2 / 2*k * (1-np.exp(-2*k*T))\n",
    "        mu = self.x0  *np.exp(-k*T) + self.xmean * (1-np.exp(-k*T))\n",
    "        logprices = phis * sigma + mu\n",
    "        prices = np.exp(logprices)\n",
    "        payout = self.payout(prices,T,N)\n",
    "        return payout\n",
    "\n",
    "    def payout(self,prices,T,M):\n",
    "        # Payout is price - strike IF larger than zero. Thus take max(0,S-K)\n",
    "        payoff = np.max(np.vstack(((prices - self.K),\n",
    "                                    np.zeros(len(prices)))),axis=0)\n",
    "        # Discount by rf rate\n",
    "        return np.exp(-1*self.rf * T)* np.mean(payoff)\n",
    "\n",
    "    def plot_convergence(self,M_arr,values,M_many,values_many,title=None):\n",
    "        # Plot the convergence given either one of the methods\n",
    "        plt.figure()\n",
    "        plt.scatter(M,values,color='red')\n",
    "        plt.plot(M_many,values_many, color='black', label='Simulation',alpha=0.3)\n",
    "        plt.ylabel('Option price at inception (USD)', size=13)\n",
    "        plt.xlabel('Number of simulations', size=13)\n",
    "        # plt.scatter(250,233.8679716049668,label='Binomial Tree, N=250',color='purple',s=50)\n",
    "        plt.axhline(self.BSprice, label='Black-Scholes limit',ls='dotted')\n",
    "        plt.legend(loc='best', fontsize=12)\n",
    "        plt.tight_layout()\n",
    "        if title:\n",
    "            plt.savefig(title)\n",
    "        plt.tight_layout()"
   ]
  },
  {
   "cell_type": "code",
   "execution_count": null,
   "metadata": {},
   "outputs": [],
>>>>>>> 7d4e22c9132aa01d3cd3e34d5bbf8e7889cc6060
   "source": [
    "# Exercise 1: Monte Carlo Simulation\n",
    "class MonteCarlo():\n",
    "    def __init__(self,Npaths, Nsteps, T, S, K = 3300):\n",
    "        # If we do not call the function with a value, \n",
    "        # initialize at the \"standard\" numbers\n",
    "        self.rf = np.log((1+0.005/4)**4)\n",
    "        self.sigma = np.sqrt(12)*0.0428156\n",
    "        self.K     = K\n",
    "        self.x0 = np.log(startingprice)\n",
    "        self.eta = 1/12 # half life time of mean reversion\n",
    "        self.ltm = 3000 # long term mean\n",
    "        self.xmean = np.log(self.ltm)# - self.sigma**2/(2*self.eta)\n",
    "        self.dT = T/Nsteps\n",
    "        self.Npaths = Npaths\n",
    "        self.Nsteps = Nsteps\n",
    "        self.T = T\n",
    "        \n",
    "    def propagate(self,xt):\n",
    "        N = 1 if type(xt)==np.float64 else len(xt)\n",
    "        phi = np.random.randn(N)\n",
    "        return (xt * np.exp(-self.eta*self.dT))+ self.xmean*(1-np.exp(-self.eta*self.dT)) + (self.sigma * np.sqrt(1-np.exp((-2*self.eta*self.dT)/(2*self.eta)))) * phi\n",
    "\n",
    "    def simulate(self):\n",
    "        xt = np.zeros(self.Nsteps)\n",
    "        xt[0] = self.x0\n",
    "        for i in range(self.Nsteps-1):\n",
    "            xt[i+1] = self.propagate(xt[i])\n",
    "        prices = np.exp(xt)\n",
    "        return prices\n",
    "        \n",
    "    def plot_single(self):\n",
    "        prices = self.simulate()\n",
    "        timearr = np.arange(0,self.T,self.dT)\n",
    "        plt.plot(timearr,prices,color='black',lw=0.5)\n",
    "        plt.axhline(self.ltm,ls='--',color='black',lw=1)\n",
    "        plt.xlabel('Time [yr]')\n",
    "        plt.ylabel('Stock price [USD]')\n",
    "        plt.tight_layout()\n",
    "        plt.show()\n",
    "        \n",
    "    def simulate_many(self, Npaths=MC.Npaths):\n",
    "        # Simulate Npaths for Nsteps\n",
    "        xt = np.zeros((Npaths, self.Nsteps))\n",
    "        xt[:,0] = self.x0\n",
    "        for i in range(self.Nsteps-1):\n",
    "            xt[:,i+1] = self.propagate(xt[:,i])\n",
    "        prices = np.exp(xt)\n",
    "        return prices\n",
    "        \n",
    "    def plot_many(self):\n",
    "        prices = self.simulate_many()\n",
    "        timearr = np.arange(0,self.T,self.dT)\n",
    "        for i in range(self.Npaths-1):\n",
    "            plt.plot(timearr,prices[i,:],color='black',lw=0.1)\n",
    "        plt.axhline(self.ltm,ls='--',color='black',lw=1)\n",
    "        plt.xlabel('Time [yr]')\n",
    "        plt.ylabel('Stock price [USD]')\n",
    "        plt.tight_layout()\n",
    "        \n",
    "        \n",
    "\n",
    "MC =MonteCarlo(1000,5000,10,startingprice)\n",
    "MC.plot_many()"
   ]
  },
  {
   "cell_type": "code",
   "execution_count": null,
   "metadata": {},
   "outputs": [],
   "source": []
  }
 ],
 "metadata": {
  "kernelspec": {
   "display_name": "Python 3",
   "language": "python",
   "name": "python3"
  },
  "language_info": {
   "codemirror_mode": {
    "name": "ipython",
    "version": 3
   },
   "file_extension": ".py",
   "mimetype": "text/x-python",
   "name": "python",
   "nbconvert_exporter": "python",
   "pygments_lexer": "ipython3",
   "version": "3.8.3"
  }
 },
 "nbformat": 4,
 "nbformat_minor": 4
}
