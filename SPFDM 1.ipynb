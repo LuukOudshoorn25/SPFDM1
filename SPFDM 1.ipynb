{
 "cells": [
  {
   "cell_type": "code",
   "execution_count": 1,
   "metadata": {},
   "outputs": [],
   "source": [
    "# SPFDM Assignment 1\n",
    "# Luuk Oudshoorn and Willem-Jan de Voogd\n",
    "# Fall 2020"
   ]
  },
  {
   "cell_type": "code",
   "execution_count": 2,
   "metadata": {},
   "outputs": [
    {
     "name": "stderr",
     "output_type": "stream",
     "text": [
      "C:\\Users\\Willem Jan\\anaconda3\\lib\\site-packages\\ffn\\core.py:27: MatplotlibDeprecationWarning: The 'warn' parameter of use() is deprecated since Matplotlib 3.1 and will be removed in 3.3.  If any parameter follows 'warn', they should be pass as keyword, not positionally.\n",
      "  matplotlib.use('agg', warn=False)\n"
     ]
    }
   ],
   "source": [
    "import time\n",
    "import numpy as np\n",
    "import pandas as pd\n",
    "import datetime as dt\n",
    "from glob import glob\n",
    "from scipy.interpolate import interp1d\n",
    "%matplotlib inline\n",
    "# Import some of the basis required functions\n",
    "from scipy.stats import norm\n",
    "from joblib import Parallel, delayed\n",
    "import networkx as nx\n",
    "from scipy.stats import norm\n",
    "import scipy as sp\n",
    "import matplotlib.pyplot as plt\n",
    "import ffn \n",
    "from matplotlib import collections as matcoll"
   ]
  },
  {
   "cell_type": "code",
   "execution_count": 3,
   "metadata": {},
   "outputs": [
    {
     "data": {
      "text/plain": [
       "Text(0, 0.5, 'Rate (%)')"
      ]
     },
     "execution_count": 3,
     "metadata": {},
     "output_type": "execute_result"
    }
   ],
   "source": [
    "# Load LIBOR Rates\n",
    "periods = ['ON','1M','3M','6M','12M']\n",
    "LIBOR = pd.DataFrame()\n",
    "for period in periods:\n",
    "    filename = glob('./USD'+period+'*.csv')[0]\n",
    "    LIBOR_sub = pd.read_csv(filename)\n",
    "    LIBOR_sub['DATE'] = pd.to_datetime(LIBOR_sub['DATE'])\n",
    "    LIBOR_sub.columns = ['Date','Rate_'+period]\n",
    "    LIBOR_sub = LIBOR_sub.set_index('Date')\n",
    "    LIBOR_sub = LIBOR_sub.replace('.',np.nan)\n",
    "    LIBOR_sub['Rate_'+period] = LIBOR_sub['Rate_'+period].astype(float)\n",
    "    LIBOR = pd.concat((LIBOR,LIBOR_sub),axis=1)\n",
    "LIBOR.plot()\n",
    "plt.ylabel('Rate (%)')"
   ]
  },
  {
   "cell_type": "code",
   "execution_count": 4,
   "metadata": {},
   "outputs": [],
   "source": [
    "# Libor rates from ICE\n",
    "# https://www.theice.com/marketdata/reports/170\n",
    "#LIBOR = pd.DataFrame({'Name':['Rate_3M','Rate_6M','Rate_12M'],'Rate':[-0.52971,-0.52329,-0.47386]}).set_index('Name')\n",
    "#LIBOR\n",
    "# Latest libor rates\n",
    "# These are annualized interest rates\n",
    "LIBOR = pd.DataFrame({'Rate':LIBOR.iloc[-1,2:]})\n",
    "LIBOR.loc['Rate_9M'] = interp1d([3,6,12],LIBOR.Rate,kind='linear')(9)"
   ]
  },
  {
   "cell_type": "code",
   "execution_count": 5,
   "metadata": {},
   "outputs": [
    {
     "data": {
      "text/html": [
       "<div>\n",
       "<style scoped>\n",
       "    .dataframe tbody tr th:only-of-type {\n",
       "        vertical-align: middle;\n",
       "    }\n",
       "\n",
       "    .dataframe tbody tr th {\n",
       "        vertical-align: top;\n",
       "    }\n",
       "\n",
       "    .dataframe thead th {\n",
       "        text-align: right;\n",
       "    }\n",
       "</style>\n",
       "<table border=\"1\" class=\"dataframe\">\n",
       "  <thead>\n",
       "    <tr style=\"text-align: right;\">\n",
       "      <th></th>\n",
       "      <th>Rate</th>\n",
       "    </tr>\n",
       "  </thead>\n",
       "  <tbody>\n",
       "    <tr>\n",
       "      <th>Rate_12M</th>\n",
       "      <td>0.236630</td>\n",
       "    </tr>\n",
       "    <tr>\n",
       "      <th>Rate_3M</th>\n",
       "      <td>0.116500</td>\n",
       "    </tr>\n",
       "    <tr>\n",
       "      <th>Rate_6M</th>\n",
       "      <td>0.149380</td>\n",
       "    </tr>\n",
       "    <tr>\n",
       "      <th>Rate_9M</th>\n",
       "      <td>0.193005</td>\n",
       "    </tr>\n",
       "  </tbody>\n",
       "</table>\n",
       "</div>"
      ],
      "text/plain": [
       "              Rate\n",
       "Rate_12M  0.236630\n",
       "Rate_3M   0.116500\n",
       "Rate_6M   0.149380\n",
       "Rate_9M   0.193005"
      ]
     },
     "execution_count": 5,
     "metadata": {},
     "output_type": "execute_result"
    }
   ],
   "source": [
    "# OIS curve, is 0.1% lower than Libor curve assuming fixed spread\n",
    "# We bootstrap the OIS for quarterly payments\n",
    "OIS = (LIBOR -0.1).sort_index()\n",
    "OIS"
   ]
  },
  {
   "cell_type": "code",
   "execution_count": 6,
   "metadata": {},
   "outputs": [
    {
     "data": {
      "text/html": [
       "<div>\n",
       "<style scoped>\n",
       "    .dataframe tbody tr th:only-of-type {\n",
       "        vertical-align: middle;\n",
       "    }\n",
       "\n",
       "    .dataframe tbody tr th {\n",
       "        vertical-align: top;\n",
       "    }\n",
       "\n",
       "    .dataframe thead th {\n",
       "        text-align: right;\n",
       "    }\n",
       "</style>\n",
       "<table border=\"1\" class=\"dataframe\">\n",
       "  <thead>\n",
       "    <tr style=\"text-align: right;\">\n",
       "      <th></th>\n",
       "      <th>Zero rate</th>\n",
       "    </tr>\n",
       "    <tr>\n",
       "      <th>Years</th>\n",
       "      <th></th>\n",
       "    </tr>\n",
       "  </thead>\n",
       "  <tbody>\n",
       "    <tr>\n",
       "      <th>0.25</th>\n",
       "      <td>0.116500</td>\n",
       "    </tr>\n",
       "    <tr>\n",
       "      <th>0.50</th>\n",
       "      <td>0.149380</td>\n",
       "    </tr>\n",
       "    <tr>\n",
       "      <th>0.75</th>\n",
       "      <td>0.193005</td>\n",
       "    </tr>\n",
       "    <tr>\n",
       "      <th>1.00</th>\n",
       "      <td>0.236630</td>\n",
       "    </tr>\n",
       "    <tr>\n",
       "      <th>1.25</th>\n",
       "      <td>NaN</td>\n",
       "    </tr>\n",
       "    <tr>\n",
       "      <th>...</th>\n",
       "      <td>...</td>\n",
       "    </tr>\n",
       "    <tr>\n",
       "      <th>29.00</th>\n",
       "      <td>NaN</td>\n",
       "    </tr>\n",
       "    <tr>\n",
       "      <th>29.25</th>\n",
       "      <td>NaN</td>\n",
       "    </tr>\n",
       "    <tr>\n",
       "      <th>29.50</th>\n",
       "      <td>NaN</td>\n",
       "    </tr>\n",
       "    <tr>\n",
       "      <th>29.75</th>\n",
       "      <td>NaN</td>\n",
       "    </tr>\n",
       "    <tr>\n",
       "      <th>30.00</th>\n",
       "      <td>NaN</td>\n",
       "    </tr>\n",
       "  </tbody>\n",
       "</table>\n",
       "<p>120 rows × 1 columns</p>\n",
       "</div>"
      ],
      "text/plain": [
       "       Zero rate\n",
       "Years           \n",
       "0.25    0.116500\n",
       "0.50    0.149380\n",
       "0.75    0.193005\n",
       "1.00    0.236630\n",
       "1.25         NaN\n",
       "...          ...\n",
       "29.00        NaN\n",
       "29.25        NaN\n",
       "29.50        NaN\n",
       "29.75        NaN\n",
       "30.00        NaN\n",
       "\n",
       "[120 rows x 1 columns]"
      ]
     },
     "execution_count": 6,
     "metadata": {},
     "output_type": "execute_result"
    }
   ],
   "source": [
    "# OIS is the first part of the zero curve\n",
    "zerocurve = pd.DataFrame({'Years':[1,0.25,0.5,0.75],'Zero rate':OIS.values.flatten()})\n",
    "\n",
    "zerocurve = zerocurve.set_index('Years').sort_index()\n",
    "zerocurve\n",
    "for i in np.arange(1.25,30.1,0.25):\n",
    "    zerocurve.loc[i] = np.nan\n",
    "zerocurve"
   ]
  },
  {
   "cell_type": "code",
   "execution_count": 7,
   "metadata": {},
   "outputs": [
    {
     "name": "stderr",
     "output_type": "stream",
     "text": [
      "<ipython-input-7-5da7feca8767>:15: UserWarning: Matplotlib is currently using agg, which is a non-GUI backend, so cannot show the figure.\n",
      "  plt.show()\n"
     ]
    },
    {
     "data": {
      "text/html": [
       "<div>\n",
       "<style scoped>\n",
       "    .dataframe tbody tr th:only-of-type {\n",
       "        vertical-align: middle;\n",
       "    }\n",
       "\n",
       "    .dataframe tbody tr th {\n",
       "        vertical-align: top;\n",
       "    }\n",
       "\n",
       "    .dataframe thead th {\n",
       "        text-align: right;\n",
       "    }\n",
       "</style>\n",
       "<table border=\"1\" class=\"dataframe\">\n",
       "  <thead>\n",
       "    <tr style=\"text-align: right;\">\n",
       "      <th></th>\n",
       "      <th>Swap_Rate</th>\n",
       "    </tr>\n",
       "    <tr>\n",
       "      <th>Years</th>\n",
       "      <th></th>\n",
       "    </tr>\n",
       "  </thead>\n",
       "  <tbody>\n",
       "    <tr>\n",
       "      <th>1.00</th>\n",
       "      <td>0.230000</td>\n",
       "    </tr>\n",
       "    <tr>\n",
       "      <th>1.25</th>\n",
       "      <td>0.235000</td>\n",
       "    </tr>\n",
       "    <tr>\n",
       "      <th>1.50</th>\n",
       "      <td>0.240000</td>\n",
       "    </tr>\n",
       "    <tr>\n",
       "      <th>1.75</th>\n",
       "      <td>0.245000</td>\n",
       "    </tr>\n",
       "    <tr>\n",
       "      <th>2.00</th>\n",
       "      <td>0.250000</td>\n",
       "    </tr>\n",
       "    <tr>\n",
       "      <th>...</th>\n",
       "      <td>...</td>\n",
       "    </tr>\n",
       "    <tr>\n",
       "      <th>29.00</th>\n",
       "      <td>1.249500</td>\n",
       "    </tr>\n",
       "    <tr>\n",
       "      <th>29.25</th>\n",
       "      <td>1.254625</td>\n",
       "    </tr>\n",
       "    <tr>\n",
       "      <th>29.50</th>\n",
       "      <td>1.259750</td>\n",
       "    </tr>\n",
       "    <tr>\n",
       "      <th>29.75</th>\n",
       "      <td>1.264875</td>\n",
       "    </tr>\n",
       "    <tr>\n",
       "      <th>30.00</th>\n",
       "      <td>1.270000</td>\n",
       "    </tr>\n",
       "  </tbody>\n",
       "</table>\n",
       "<p>117 rows × 1 columns</p>\n",
       "</div>"
      ],
      "text/plain": [
       "       Swap_Rate\n",
       "Years           \n",
       "1.00    0.230000\n",
       "1.25    0.235000\n",
       "1.50    0.240000\n",
       "1.75    0.245000\n",
       "2.00    0.250000\n",
       "...          ...\n",
       "29.00   1.249500\n",
       "29.25   1.254625\n",
       "29.50   1.259750\n",
       "29.75   1.264875\n",
       "30.00   1.270000\n",
       "\n",
       "[117 rows x 1 columns]"
      ]
     },
     "execution_count": 7,
     "metadata": {},
     "output_type": "execute_result"
    }
   ],
   "source": [
    "# To obtain longer rates we need to bootstrap\n",
    "# For bootstrapping we also need the swap rates. These are obtained from \n",
    "# http://www.interestrateswapstoday.com/swap-rates.html\n",
    "def read_interp_swaprates():\n",
    "    swaprates  =  pd.DataFrame({'Name':['1-Year','2-Year','3-Year','5-Year','7-Year','10-Year','30-Year'],'Rate':[0.230,0.25,0.29,0.44,0.63,0.86,1.270]}).set_index('Name')\n",
    "    swaprates['NMonths'] = [12,24,36,60,84,120,360]\n",
    "    #We need to interpolate swaprates to get all intermediate values\n",
    "    to_interpolate = np.arange(12,361,3)\n",
    "    # We use cubic interpolation as this generates a much smoother curve\n",
    "    interpolated = interp1d(swaprates['NMonths'],swaprates['Rate'],kind='linear')(to_interpolate)\n",
    "    swaprates_interp = pd.DataFrame({'Years':to_interpolate/12,'Swap_Rate':interpolated})\n",
    "    return swaprates_interp.set_index('Years')\n",
    "swaprates_interp = read_interp_swaprates()\n",
    "plt.plot(swaprates_interp.index, swaprates_interp.Swap_Rate)\n",
    "plt.show()\n",
    "swaprates_interp"
   ]
  },
  {
   "cell_type": "code",
   "execution_count": 8,
   "metadata": {},
   "outputs": [],
   "source": [
    "# Having both libor and swap rates we should be able to bootstrap the zero curve"
   ]
  },
  {
   "cell_type": "code",
   "execution_count": 9,
   "metadata": {},
   "outputs": [],
   "source": [
    "def bootstrap(disc_rates, disc_rates_times,to_calculate, swaprate, duration, payterm):\n",
    "    \"\"\"Takes known discounting rates and known swap rate for some times\n",
    "       and returns the swaprate for an unknown time\"\"\"\n",
    "    # payterm = years between payments\n",
    "    # discount rates = libor/ois like rates\n",
    "    # swaprate is the at-par rate for the IRS\n",
    "    # duration is the number of years of the swap\n",
    "    \n",
    "    Npayments = duration / payterm - 1 # because we estimate one\n",
    "    # We loop through all payments except for the unknown\n",
    "    swapvalue = 0\n",
    "    for i,time in enumerate(disc_rates_times):\n",
    "        if time != duration: # intermediate payouts\n",
    "            payout = swaprate * payterm\n",
    "        elif time ==duration: #final payout\n",
    "            payout = swaprate * payterm + 100\n",
    "        depreciation = np.exp(-time*disc_rates[i]/100)\n",
    "        swapvalue += payout * depreciation\n",
    "    # The swap is now worth par, thus 100. We calculate the rate solving the \n",
    "    # missing term\n",
    "    \n",
    "    if to_calculate == duration:\n",
    "        # If we miss the last term, then divide by 100+coupon\n",
    "        rate = np.log((100-swapvalue)/(swaprate * payterm + 100))/(-to_calculate)\n",
    "    elif to_calculate != duration:\n",
    "        # If we search for an intermediate term, divide by coupon\n",
    "        rate = np.log((100-swapvalue)/(swaprate * payterm))/(-to_calculate)\n",
    "    return (rate*100)"
   ]
  },
  {
   "cell_type": "code",
   "execution_count": 10,
   "metadata": {},
   "outputs": [
    {
     "data": {
      "text/plain": [
       "4.952932701412535"
      ]
     },
     "execution_count": 10,
     "metadata": {},
     "output_type": "execute_result"
    }
   ],
   "source": [
    "# Example from Hull\n",
    "disc_rates = [4,4.5,4.8]\n",
    "disc_rates_times = [0.5,1,1.5]\n",
    "to_calculate = 2\n",
    "swaprate   = 5\n",
    "duration   = 2\n",
    "payterm    = 0.5\n",
    "bootstrap(disc_rates, disc_rates_times,to_calculate, swaprate, duration, payterm)"
   ]
  },
  {
   "cell_type": "code",
   "execution_count": 11,
   "metadata": {},
   "outputs": [
    {
     "data": {
      "text/plain": [
       "4.800000075157118"
      ]
     },
     "execution_count": 11,
     "metadata": {},
     "output_type": "execute_result"
    }
   ],
   "source": [
    "# Inverse problem of Hull; we know 0.5,1,2\n",
    "disc_rates = [4,4.5,4.95293270]\n",
    "disc_rates_times = [0.5,1,2]\n",
    "to_calculate = 1.5\n",
    "swaprate   = 5\n",
    "duration   = 2\n",
    "payterm    = 0.5\n",
    "bootstrap(disc_rates, disc_rates_times,to_calculate, swaprate, duration, payterm)"
   ]
  },
  {
   "cell_type": "code",
   "execution_count": 12,
   "metadata": {},
   "outputs": [],
   "source": [
    "# We have swap rates for all 3 month periods by interpolation\n",
    "# Using each swap rate we can now equate the zero yield rate for that period\n",
    "for years,row in zerocurve.iterrows():\n",
    "    if (np.isnan(row['Zero rate'])):\n",
    "        # Unknown rate, bootstrap!\n",
    "        # Obtain swap rate for this maturity\n",
    "        swaprate = swaprates_interp.loc[years].Swap_Rate\n",
    "        known_rates = zerocurve.loc[:years-0.25]\n",
    "        zerorate = bootstrap(known_rates.values,known_rates.index,years,\n",
    "                             swaprate,years,0.25)\n",
    "        zerocurve.loc[years] = zerorate\n"
   ]
  },
  {
   "cell_type": "code",
   "execution_count": 13,
   "metadata": {},
   "outputs": [
    {
     "data": {
      "text/plain": [
       "<matplotlib.legend.Legend at 0x170bc776250>"
      ]
     },
     "execution_count": 13,
     "metadata": {},
     "output_type": "execute_result"
    }
   ],
   "source": [
    "plt.plot(zerocurve.index, zerocurve.values,label='Zerocurve')\n",
    "plt.plot(swaprates_interp.index, swaprates_interp.Swap_Rate,label='Swaprate')\n",
    "plt.legend()"
   ]
  },
  {
   "cell_type": "code",
   "execution_count": 14,
   "metadata": {},
   "outputs": [],
   "source": [
    "# Now that we have the zerocurve, we can use it to valuate all kinds of IRS!"
   ]
  },
  {
   "cell_type": "code",
   "execution_count": 15,
   "metadata": {},
   "outputs": [
    {
     "data": {
      "text/html": [
       "<div>\n",
       "<style scoped>\n",
       "    .dataframe tbody tr th:only-of-type {\n",
       "        vertical-align: middle;\n",
       "    }\n",
       "\n",
       "    .dataframe tbody tr th {\n",
       "        vertical-align: top;\n",
       "    }\n",
       "\n",
       "    .dataframe thead th {\n",
       "        text-align: right;\n",
       "    }\n",
       "</style>\n",
       "<table border=\"1\" class=\"dataframe\">\n",
       "  <thead>\n",
       "    <tr style=\"text-align: right;\">\n",
       "      <th></th>\n",
       "      <th>Rate</th>\n",
       "    </tr>\n",
       "  </thead>\n",
       "  <tbody>\n",
       "    <tr>\n",
       "      <th>Rate_3M</th>\n",
       "      <td>0.216500</td>\n",
       "    </tr>\n",
       "    <tr>\n",
       "      <th>Rate_6M</th>\n",
       "      <td>0.249380</td>\n",
       "    </tr>\n",
       "    <tr>\n",
       "      <th>Rate_12M</th>\n",
       "      <td>0.336630</td>\n",
       "    </tr>\n",
       "    <tr>\n",
       "      <th>Rate_9M</th>\n",
       "      <td>0.293005</td>\n",
       "    </tr>\n",
       "  </tbody>\n",
       "</table>\n",
       "</div>"
      ],
      "text/plain": [
       "              Rate\n",
       "Rate_3M   0.216500\n",
       "Rate_6M   0.249380\n",
       "Rate_12M  0.336630\n",
       "Rate_9M   0.293005"
      ]
     },
     "execution_count": 15,
     "metadata": {},
     "output_type": "execute_result"
    }
   ],
   "source": [
    "LIBOR"
   ]
  },
  {
   "cell_type": "code",
   "execution_count": 24,
   "metadata": {},
   "outputs": [],
   "source": [
    "class swaps():\n",
    "    def __init__(self,start, lifetime,dT=0.25,swaprate=None,lagged_libor=None, print_value = True):\n",
    "        \"\"\"Initialize function. For any swap we determine\n",
    "           its value as difference between long and short\n",
    "           position in bonds. If inception if now, we solve\n",
    "           this value such that it is zero.\n",
    "           For each swap we pay fixed and receive floating rate\n",
    "           \n",
    "           start = float number of years, e.g. -0.5\n",
    "           lifetime = total lifetime since inception, e.g. 5\n",
    "           swaprate = some rate in % if defined. To find swaprate, \n",
    "           it should be set to None\n",
    "           lagged_libor = libor if swap already exists\"\"\"\n",
    "        self.swapstart = start\n",
    "        self.lifetime = lifetime\n",
    "        self.swaprate=swaprate\n",
    "        self.dT = dT\n",
    "        if lagged_libor:\n",
    "            self.floatlibor = lagged_libor\n",
    "        else:\n",
    "            self.floatlibor = 10.5\n",
    "        if self.swaprate:\n",
    "            # We need to calculate the present day value\n",
    "            # of this swap, since it already exists and has\n",
    "            # a defined swaprate\n",
    "            self.irsvalue = self.valuate(self.swaprate,print_=print_value)\n",
    "        else:\n",
    "            # We need to find the swaprate such that the net\n",
    "            # present value equals zero\n",
    "            self.get_rate()\n",
    "    \n",
    "    def valuate(self,swaprate,print_=False,lagged_libor = 10.2):\n",
    "        \"\"\"We pay fixed and thus are short in fixed bond at \n",
    "           the swaprate r. We receive floating and are thus \n",
    "           long in floating bond.\"\"\"\n",
    "        # Fixed lag\n",
    "        short = self.fixed_bond(swaprate)\n",
    "        if print_:\n",
    "            print('Fixed',short)\n",
    "        # Floating lag\n",
    "        long = self.floating_bond(self.floatlibor)\n",
    "        if print_:\n",
    "            print('Float',long)\n",
    "        return short - long\n",
    "        \n",
    "    def fixed_bond(self,rate):\n",
    "        time_remaining = self.lifetime + self.swapstart\n",
    "        start     = [self.swapstart+w*self.dT for w in range(0,1000)]\n",
    "        start     = np.sort(np.abs(start))[1]\n",
    "        \n",
    "        timesteps = np.arange(start,time_remaining,self.dT)\n",
    "        \n",
    "        # Each step in timesteps, we get discounted floating rate\n",
    "        # Additionally, we receive final payment\n",
    "        value = 0\n",
    "        for timestep in timesteps:\n",
    "            discount_rate = zerocurve.loc[timestep].iloc[0]\n",
    "            discount_factor = np.exp(-timestep*discount_rate/100)\n",
    "            discounted_cash = (rate*self.dT) * discount_factor\n",
    "            value += discounted_cash\n",
    "        # Final payment\n",
    "        discount_rate = zerocurve.loc[time_remaining].iloc[0]\n",
    "        discount_factor = np.exp(-time_remaining*discount_rate/100)\n",
    "        value += (100+rate*self.dT)*discount_factor\n",
    "        return value\n",
    "    \n",
    "    def floating_bond(self,libor):\n",
    "        \"\"\"Floating bond is worth par after the first next payment\n",
    "           and pays the LIBOR rate\"\"\"\n",
    "        time_remaining = self.lifetime + self.swapstart\n",
    "        start     = [self.swapstart+w*self.dT for w in range(0,1000)]\n",
    "        start     = np.sort(np.abs(start))[1]\n",
    "        \n",
    "        discount_rate = zerocurve.loc[start].iloc[0]\n",
    "        discount_factor = np.exp(-start*discount_rate/100)\n",
    "        value = (100+libor * self.dT) * discount_factor\n",
    "        \n",
    "        return value\n",
    "    \n",
    "    def valuate_call(self,x):\n",
    "        return np.abs(self.valuate(x))\n",
    "   \n",
    "    def get_rate(self):\n",
    "        \"\"\"Find the rate r that makes the value of a swap equal \n",
    "           zero\"\"\"\n",
    "        from scipy.optimize import minimize\n",
    "        fit_res = minimize(self.valuate_call,x0=[1])\n",
    "        self.fitrate = fit_res['x'][0]\n",
    "        \n",
    "    def value_amortized(self,rate):\n",
    "        n_periods = self.lifetime * self.dT\n",
    "        repay = 100/(n_periods)\n",
    "        timesteps = np.arange(self.swapstart,self.lifetime,self.dT)\n",
    "        payoff = 0\n",
    "        loss = 0\n",
    "        for i, timestep in enumerate(timesteps):\n",
    "            discount_rate = zerocurve.loc[timestep+self.dT].iloc[0]\n",
    "            discount_factor = np.exp(-timestep*discount_rate/100)\n",
    "            discounted_cash = (rate*self.dT) * (100 - i*repay) * discount_factor\n",
    "            payoff += discounted_cash\n",
    "            loss += (1-discount_factor)*repay\n",
    "        return np.abs(payoff-loss)\n",
    "    \n",
    "    def get_amortized_rate(self):\n",
    "        from scipy.optimize import minimize\n",
    "        fit_rate = minimize(self.value_amortized,x0=[1])\n",
    "        return fit_rate['x'][0]*100 "
   ]
  },
  {
   "cell_type": "code",
   "execution_count": 17,
   "metadata": {},
   "outputs": [
    {
     "data": {
      "text/plain": [
       "0.19241245219872027"
      ]
     },
     "execution_count": 17,
     "metadata": {},
     "output_type": "execute_result"
    }
   ],
   "source": [
    "amortized = swaps(0,4,1)\n",
    "amortized.get_amortized_rate()"
   ]
  },
  {
   "cell_type": "code",
   "execution_count": 18,
   "metadata": {},
   "outputs": [
    {
     "name": "stdout",
     "output_type": "stream",
     "text": [
      "Fixed 96.60929802037867\n",
      "Float 100.09117972190764\n"
     ]
    },
    {
     "data": {
      "text/plain": [
       "-3.4818817015289625"
      ]
     },
     "execution_count": 18,
     "metadata": {},
     "output_type": "execute_result"
    }
   ],
   "source": [
    "# Paper example\n",
    "zerocurve.loc[0.25] = 10\n",
    "zerocurve.loc[0.5] = 10.5\n",
    "zerocurve.loc[0.75] = 11\n",
    "zerocurve.loc[1] = 11.5\n",
    "\n",
    "# Find value of swap\n",
    "swapper = swaps(0,1,0.25,8)#-0.25,1.5,0.5,8)   \n",
    "swapper.irsvalue   "
   ]
  },
  {
   "cell_type": "code",
   "execution_count": 19,
   "metadata": {},
   "outputs": [
    {
     "data": {
      "text/plain": [
       "11.727583687444431"
      ]
     },
     "execution_count": 19,
     "metadata": {},
     "output_type": "execute_result"
    }
   ],
   "source": [
    "# Find rate for swap\n",
    "swapper = swaps(0,1,0.25,None)\n",
    "swapper.fitrate"
   ]
  },
  {
   "cell_type": "code",
   "execution_count": 20,
   "metadata": {},
   "outputs": [
    {
     "name": "stdout",
     "output_type": "stream",
     "text": [
      "Fixed 98.23789590103716\n",
      "Float 102.50507175417775\n"
     ]
    },
    {
     "data": {
      "text/plain": [
       "-4.267175853140586"
      ]
     },
     "execution_count": 20,
     "metadata": {},
     "output_type": "execute_result"
    }
   ],
   "source": [
    "# Example slides\n",
    "zerocurve.loc[0.25] = 10\n",
    "zerocurve.loc[0.75] = 10.5\n",
    "zerocurve.loc[1.25] = 11\n",
    "\n",
    "swapper = swaps(-0.25,1.5,0.5,8,10.2)#-0.25,1.5,0.5,8)   \n",
    "swapper.irsvalue  "
   ]
  },
  {
   "cell_type": "code",
   "execution_count": 26,
   "metadata": {},
   "outputs": [
    {
     "name": "stderr",
     "output_type": "stream",
     "text": [
      "<ipython-input-26-6a72757ac7cc>:13: UserWarning: Matplotlib is currently using agg, which is a non-GUI backend, so cannot show the figure.\n",
      "  plt.show()\n"
     ]
    }
   ],
   "source": [
    "# Already issued long-maturity swap - changes in sensitivity\n",
    "zerocurve_base = zerocurve['Zero rate']\n",
    "swap_rate = 8\n",
    "last_libor = 10.2\n",
    "changes = np.arange(0.95, 1.05, 0.01)\n",
    "swap_value = np.zeros(len(changes))\n",
    "for i, change in enumerate(changes):\n",
    "    zerocurve['Zero rate'] = zerocurve_base*change\n",
    "    swapper = swaps(-0.25,5,0.5,swap_rate,last_libor, print_value=False) \n",
    "    value = swapper.irsvalue\n",
    "    swap_value[i] = value\n",
    "plt.plot(changes, swap_value) \n",
    "plt.show()"
   ]
  },
  {
   "cell_type": "markdown",
   "metadata": {},
   "source": [
    "<h2>Mean reversion</h2>"
   ]
  },
  {
   "cell_type": "code",
   "execution_count": null,
   "metadata": {},
   "outputs": [],
   "source": [
    "# We use mean reversion rather than geometric brownian motion"
   ]
  },
  {
   "cell_type": "code",
   "execution_count": null,
   "metadata": {},
   "outputs": [],
   "source": [
    "# Download S&P500 data for 60 months, since 12*feb < 60\n",
    "# We choose the daily closing prices. The ticker symbol for \n",
    "# the S&P is ^GSPC on Yahoo Finance.\n",
    "sp500_pdaily = ffn.get('^GSPC:Close', start='2015-09-01',end='2020-08-31',)\n",
    "\n",
    "# Convert the daily prices to monthly prices by taking the closing \n",
    "# value of each month (e.g. last trading day)\n",
    "sp500_pmonthly = sp500_pdaily.to_monthly()\n",
    "\n",
    "# Check length\n",
    "print('Number of months equals {}'.format(len(sp500_pmonthly)))\n",
    "sp500_rmonthly = sp500_pmonthly.to_returns()\n",
    "\n",
    "startingprice = sp500_pmonthly['gspcclose'].iloc[-1]\n",
    "strikeprice = 3300\n",
    "sigma = sp500_rmonthly.std().iloc[-1]\n"
   ]
  },
  {
   "cell_type": "code",
   "execution_count": null,
   "metadata": {},
   "outputs": [],
   "source": [
    "# We consider everything in logs. So define\n",
    "# x_t = ln (S_t)\n",
    "# So every step we have \n",
    "# x_t = ln(S_t-1)+ln(d)=D  and  x_t = ln(S_t-1)+ln(u) = U\n",
    "# "
   ]
  },
  {
   "cell_type": "code",
   "execution_count": null,
   "metadata": {},
   "outputs": [],
   "source": [
    "data=np.array([[r'$x_0$',r'$x^+_1=ln(S_o \\, u)$'],['x-1',r'$x^-_1=ln(S_o \\, d)$']])"
   ]
  },
  {
   "cell_type": "code",
   "execution_count": null,
   "metadata": {},
   "outputs": [],
   "source": [
    "n = 1\n",
    "fig, ax=plt.subplots(figsize=(4,3))\n",
    "G=nx.Graph()\n",
    "for i in range(0,n+1):\n",
    "    for j in range(1,i+2):\n",
    "        if i<n:\n",
    "            G.add_edge((i,j),(i+1,j))\n",
    "            G.add_edge((i,j),(i+1,j+1))\n",
    "\n",
    "posG={}\n",
    "\n",
    "for node in G.nodes:\n",
    "    posG[node]=(node[0],n+2+node[0]-2*node[1])\n",
    "nx.draw(G,pos=posG, with_labels=False, ax=ax)\n",
    "\n",
    "dict_ = {}\n",
    "for node in G.nodes:\n",
    "    dict_[node] = data[node[1]-1,node[0]]\n",
    "labels=nx.draw_networkx_labels(G,pos=posG,labels=dict_, ax=ax,verticalalignment='bottom',\n",
    "                               horizontalalignment='right',bbox=dict(facecolor='w',alpha=.6))\n",
    "dict_ = {}\n",
    "for edge in G.edges:\n",
    "    dict_[edge] = 'p' if edge[1][1]<=edge[0][1] else '1-p'\n",
    "\n",
    "labels=nx.draw_networkx_edge_labels(G,pos=posG,edge_labels=dict_, ax=ax)\n",
    "plt.xlim(0.2-(n+3)/10,n+0.2)\n",
    "plt.ylim(-0.4,2.5)\n",
    "plt.tight_layout()\n",
    "plt.savefig('OU_tree_example.pdf')"
   ]
  },
  {
   "cell_type": "code",
   "execution_count": null,
   "metadata": {},
   "outputs": [],
   "source": [
    "class BinomialTree():\n",
    "    def __init__(self,N, T, S, sigma, K,ret_arrays=True, ret_option=False, call_put = 'call', risk_premium = 0):\n",
    "        self.N = N\n",
    "        self.T = T\n",
    "        self.S = S\n",
    "        self.x0 = np.log(S)\n",
    "        self.sigma = np.sqrt(12)*0.0428156\n",
    "        self.rf = np.log((1+0.005/4)**4)\n",
    "        self.K = K\n",
    "        self.ret_arrays = ret_arrays\n",
    "        self.ret_option = ret_option\n",
    "        self.call_put = call_put\n",
    "        self.eta = 1/12 # half life time of mean reversion\n",
    "        self.ltm = 3500 # long term mean\n",
    "        self.xmean = np.log(self.ltm) - sigma**2/(2*self.eta)\n",
    "        self.binomial_tree()\n",
    "        \n",
    "    def prob_p(self,xt):\n",
    "        dt = self.T/self.N\n",
    "        return (0.5+0.5 * (self.eta*(-(xt-self.xmean))*np.sqrt(dt))/\n",
    "                    (np.sqrt(self.eta**2 * (-(xt-self.xmean))**2 * dt + self.sigma**2)))\n",
    "\n",
    "    def binomial_tree(self):\n",
    "        \"\"\"Uses mean reversion method\"\"\"\n",
    "        # We simulate a model for x^* and only later add the expected values\n",
    "        \n",
    "        # Time steps given total duration and number of steps\n",
    "        dt = self.T/self.N\n",
    "        # Fill the tree\n",
    "        log_pricetree = np.zeros([self.N+1,self.N+1])\n",
    "\n",
    "        # Consider i up moves and j down moves\n",
    "        for i in range(self.N+1):\n",
    "            for j in range(self.N+1):\n",
    "                if i+j <= self.N: \n",
    "                    x_ij = (self.xmean * (1-np.exp(-self.eta*(i+j)*dt)) + \n",
    "                            self.x0*np.exp(-self.eta*(i+j)*dt) +\n",
    "                            (i-j)*self.sigma * np.sqrt(dt))\n",
    "                    log_pricetree[j,i+j] = x_ij\n",
    "\n",
    "        price_tree = np.exp(log_pricetree)\n",
    "        self.price_tree = price_tree\n",
    "        self.log_pricetree = log_pricetree\n",
    "\n",
    "        self.probup = np.zeros([self.N+1,self.N+1])\n",
    "        for i in range(self.N+1):\n",
    "            for j in range(self.N+1):\n",
    "                if i+j <= self.N: \n",
    "                    self.probup[j,i+j] = self.prob_p(log_pricetree[j,i+j])\n",
    "\n",
    "\n",
    "\n",
    "        # Derive the option value\n",
    "        option = np.zeros([self.N+1, self.N+1])\n",
    "\n",
    "        if self.call_put == 'call':\n",
    "            option[:,self.N] = np.max(np.vstack((np.zeros(self.N+1),price_tree[:,self.N]-self.K)),axis=0)\n",
    "        elif self.call_put == 'put':\n",
    "            option[:,self.N] = np.max(np.vstack((np.zeros(self.N+1),self.K-price_tree[:,self.N])),axis=0)\n",
    "\n",
    "        # Consider i up moves and j down moves\n",
    "        for i in np.arange(self.N-1,-1,-1):\n",
    "            for j in np.arange(self.N-1,-1,-1):\n",
    "                if i+j < self.N: \n",
    "                    p_up = self.prob_p(log_pricetree[j,i+j])\n",
    "                    discount = np.exp(-dt*self.rf)\n",
    "                    #print(i,j,option[j,i+j+1],option[j+1,i+j+1],p_up)\n",
    "                    option[j,i+j] = discount*(p_up*option[j,i+j+1] + (1-p_up)*option[j+1,i+j+1])\n",
    "\n",
    "        self.price_tree = price_tree\n",
    "        self.option_tree = option\n",
    "        self.option_value = option[0,0]\n",
    "\n",
    "        if self.ret_arrays:\n",
    "            return price_tree, option          \n",
    "        if self.ret_option:\n",
    "            return option[0,0]\n",
    "\n",
    "    def plot_graph_2(self,data,data2, filename=''):\n",
    "        n = self.N\n",
    "        fig, ax=plt.subplots(figsize=(7,5))\n",
    "        G=nx.Graph()\n",
    "        for i in range(0,n+1):\n",
    "            for j in range(1,i+2):\n",
    "                if i<n:\n",
    "                    G.add_edge((i,j),(i+1,j))\n",
    "                    G.add_edge((i,j),(i+1,j+1))\n",
    "\n",
    "        posG={}\n",
    "\n",
    "        for node in G.nodes:\n",
    "            posG[node]=(node[0],n+2+node[0]-2*node[1])\n",
    "        nx.draw(G,pos=posG, with_labels=False, ax=ax)\n",
    "\n",
    "        dict_ = {}\n",
    "        for node in G.nodes:\n",
    "            dict_[node] = 0*' '+'S='+np.round(data[node[1]-1,node[0]],3).astype(str)+'\\n'+'p='+np.round(data2[node[1]-1,node[0]],3).astype(str)\n",
    "        labels=nx.draw_networkx_labels(G,pos=posG,labels=dict_, ax=ax,verticalalignment='bottom',\n",
    "                                       horizontalalignment='right',bbox=dict(facecolor='w',alpha=.6))\n",
    "        dict_ = {}\n",
    "        for edge in G.edges:\n",
    "            dict_[edge] = 'u' if edge[1][1]<=edge[0][1] else 'd'\n",
    "\n",
    "        labels=nx.draw_networkx_edge_labels(G,pos=posG,edge_labels=dict_, ax=ax)\n",
    "\n",
    "\n",
    "        plt.xlim(-(n+3)/10,n+0.2)\n",
    "        plt.ylim(-0.4,6.4*n/3+0.5)\n",
    "        plt.tight_layout()\n",
    "        if filename is not '':\n",
    "            plt.savefig(filename,dpi=500,bbox_inches='tight')\n",
    "        return     \n",
    "    def plot_graph(self,data, filename=''):\n",
    "        n = self.N\n",
    "        fig, ax=plt.subplots(figsize=(7,5))\n",
    "        G=nx.Graph()\n",
    "        for i in range(0,n+1):\n",
    "            for j in range(1,i+2):\n",
    "                if i<n:\n",
    "                    G.add_edge((i,j),(i+1,j))\n",
    "                    G.add_edge((i,j),(i+1,j+1))\n",
    "\n",
    "        posG={}\n",
    "\n",
    "        for node in G.nodes:\n",
    "            posG[node]=(node[0],n+2+node[0]-2*node[1])\n",
    "        nx.draw(G,pos=posG, with_labels=False, ax=ax)\n",
    "\n",
    "        dict_ = {}\n",
    "        for node in G.nodes:\n",
    "            dict_[node] = 0*' '+np.round(data[node[1]-1,node[0]],3).astype(str)\n",
    "        labels=nx.draw_networkx_labels(G,pos=posG,labels=dict_, ax=ax,verticalalignment='bottom',\n",
    "                                       horizontalalignment='right',bbox=dict(facecolor='w',alpha=.6))\n",
    "        dict_ = {}\n",
    "        for edge in G.edges:\n",
    "            dict_[edge] = 'u' if edge[1][1]<=edge[0][1] else 'd'\n",
    "\n",
    "        labels=nx.draw_networkx_edge_labels(G,pos=posG,edge_labels=dict_, ax=ax)\n",
    "\n",
    "\n",
    "        plt.xlim(-(n+3)/10,n+0.2)\n",
    "        plt.ylim(-0.4,6.4*n/3+0.5)\n",
    "        plt.tight_layout()\n",
    "        if filename is not '':\n",
    "            plt.savefig(filename,dpi=500,bbox_inches='tight')\n",
    "        return     "
   ]
  },
  {
   "cell_type": "code",
   "execution_count": null,
   "metadata": {},
   "outputs": [],
   "source": [
    "FirstBinomialTree = BinomialTree(3,3/12,startingprice,sigma,3300,call_put='call')\n",
    "#FirstBinomialTree.plot_graph(FirstBinomialTree.probup)\n",
    "FirstBinomialTree.plot_graph_2(FirstBinomialTree.price_tree,FirstBinomialTree.probup, 'pricetree1.pdf')\n",
    "FirstBinomialTree.plot_graph(FirstBinomialTree.option_tree,'option__valuetree.pdf')"
   ]
  },
  {
   "cell_type": "code",
   "execution_count": null,
   "metadata": {},
   "outputs": [],
   "source": [
    "# Exercise 1: Monte Carlo Simulation\n",
    "class MonteCarlo():\n",
    "    def __init__(self,sigma = None, K = 3300):\n",
    "        # If we do not call the function with a value, \n",
    "        # initialize at the \"standard\" numbers\n",
    "        self.rf = np.log((1+0.005/4)**4)\n",
    "        self.sigma = np.sqrt(12)*0.0428156\n",
    "        self.K     = K\n",
    "        np.random.seed(42)\n",
    "        self.x0 = np.log(startingprice)\n",
    "        self.eta = 1/12 # half life time of mean reversion\n",
    "        self.ltm = 3500 # long term mean\n",
    "        self.xmean = np.log(self.ltm) - self.sigma**2/(2*self.eta)\n",
    "\n",
    "    def simulate(self,N,T):\n",
    "        # We generate N(0,1) random variables\n",
    "        # and multiply by sigma to get N(0,vola^2) variables\n",
    "        k=1\n",
    "        phis = np.random.randn(N)\n",
    "        sigma = self.sigma**2 / 2*k * (1-np.exp(-2*k*T))\n",
    "        mu = self.x0  *np.exp(-k*T) + self.xmean * (1-np.exp(-k*T))\n",
    "        logprices = phis * sigma + mu\n",
    "        prices = np.exp(logprices)\n",
    "        payout = self.payout(prices,T,N)\n",
    "        return payout\n",
    "\n",
    "    def payout(self,prices,T,M):\n",
    "        # Payout is price - strike IF larger than zero. Thus take max(0,S-K)\n",
    "        payoff = np.max(np.vstack(((prices - self.K),\n",
    "                                    np.zeros(len(prices)))),axis=0)\n",
    "        # Discount by rf rate\n",
    "        return np.exp(-1*self.rf * T)* np.mean(payoff)\n",
    "\n",
    "    def plot_convergence(self,M_arr,values,M_many,values_many,title=None):\n",
    "        # Plot the convergence given either one of the methods\n",
    "        plt.figure()\n",
    "        plt.scatter(M,values,color='red')\n",
    "        plt.plot(M_many,values_many, color='black', label='Simulation',alpha=0.3)\n",
    "        plt.ylabel('Option price at inception (USD)', size=13)\n",
    "        plt.xlabel('Number of simulations', size=13)\n",
    "        # plt.scatter(250,233.8679716049668,label='Binomial Tree, N=250',color='purple',s=50)\n",
    "        plt.axhline(self.BSprice, label='Black-Scholes limit',ls='dotted')\n",
    "        plt.legend(loc='best', fontsize=12)\n",
    "        plt.tight_layout()\n",
    "        if title:\n",
    "            plt.savefig(title)\n",
    "        plt.tight_layout()"
   ]
  },
  {
   "cell_type": "code",
   "execution_count": null,
   "metadata": {},
   "outputs": [],
   "source": [
    "MC = MonteCarlo()\n",
    "plt.hist(MC.simulate(10000,5/12),bins=100)"
   ]
  },
  {
   "cell_type": "code",
   "execution_count": null,
   "metadata": {},
   "outputs": [],
   "source": []
  }
 ],
 "metadata": {
  "kernelspec": {
   "display_name": "Python 3",
   "language": "python",
   "name": "python3"
  },
  "language_info": {
   "codemirror_mode": {
    "name": "ipython",
    "version": 3
   },
   "file_extension": ".py",
   "mimetype": "text/x-python",
   "name": "python",
   "nbconvert_exporter": "python",
   "pygments_lexer": "ipython3",
   "version": "3.8.3"
  }
 },
 "nbformat": 4,
 "nbformat_minor": 4
}
